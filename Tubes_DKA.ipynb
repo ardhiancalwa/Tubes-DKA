{
 "cells": [
  {
   "cell_type": "markdown",
   "id": "6a035377",
   "metadata": {},
   "source": [
    "## Import Library"
   ]
  },
  {
   "cell_type": "code",
   "execution_count": 21,
   "id": "7e8d46db",
   "metadata": {},
   "outputs": [],
   "source": [
    "import pandas as pd\n",
    "import numpy as np\n",
    "import matplotlib.pyplot as plt\n",
    "import seaborn as sns\n",
    "from itertools import product\n",
    "from sklearn.metrics import accuracy_score, f1_score, confusion_matrix\n"
   ]
  },
  {
   "cell_type": "markdown",
   "id": "8873ace3",
   "metadata": {},
   "source": [
    "## Data Preprocessing"
   ]
  },
  {
   "cell_type": "code",
   "execution_count": 22,
   "id": "1b3e773c",
   "metadata": {},
   "outputs": [],
   "source": [
    "# Load dataset\n",
    "df = pd.read_csv(\"winequality-red.csv\", delimiter=';')\n",
    "\n",
    "# Tambahkan kolom ID unik biar gampang tracking\n",
    "df.insert(0, \"ID\", range(1, len(df) + 1))\n",
    "\n",
    "# Filter hanya fitur yang relevan untuk fuzzy model\n",
    "df_filtered = df[[\"ID\", \"alcohol\", \"volatile acidity\", \"sulphates\"]].copy()\n"
   ]
  },
  {
   "cell_type": "markdown",
   "id": "913df72a",
   "metadata": {},
   "source": [
    "## Fuzzification"
   ]
  },
  {
   "cell_type": "code",
   "execution_count": 23,
   "id": "83e7e092",
   "metadata": {},
   "outputs": [],
   "source": [
    "def fuzzify_alcohol(val):\n",
    "    rendah = 1 if val <= 8.0 else (1 - (val - 8.0) / (9.5 - 8.0) if val <= 9.5 else 0)\n",
    "    sedang = (val - 9.0) / (10.0 - 9.0) if 9.0 < val <= 10.0 else (11.0 - val) / (11.0 - 10.0) if 10.0 < val < 11.0 else 0\n",
    "    tinggi = 1 if val >= 12.5 else (0 if val <= 10.5 else (val - 10.5) / (12.5 - 10.5))\n",
    "    return {\"rendah\": rendah, \"sedang\": sedang, \"tinggi\": tinggi}\n",
    "\n",
    "def fuzzify_volatile_acidity(val):\n",
    "    rendah = 1 if val <= 0.3 else (1 - (val - 0.3) / (0.5 - 0.3) if val <= 0.5 else 0)\n",
    "    sedang = (val - 0.4) / (0.6 - 0.4) if 0.4 < val <= 0.6 else (0.8 - val) / (0.8 - 0.6) if 0.6 < val < 0.8 else 0\n",
    "    tinggi = 1 if val >= 0.9 else (0 if val <= 0.7 else (val - 0.7) / (0.9 - 0.7))\n",
    "    return {\"rendah\": rendah, \"sedang\": sedang, \"tinggi\": tinggi}\n",
    "\n",
    "def fuzzify_sulphates(val):\n",
    "    rendah = 1 if val <= 0.4 else (1 - (val - 0.4) / (0.6 - 0.4) if val <= 0.6 else 0)\n",
    "    sedang = (val - 0.5) / (0.7 - 0.5) if 0.5 < val <= 0.7 else (0.9 - val) / (0.9 - 0.7) if 0.7 < val < 0.9 else 0\n",
    "    tinggi = 1 if val >= 1.0 else (0 if val <= 0.8 else (val - 0.8) / (1.0 - 0.8))\n",
    "    return {\"rendah\": rendah, \"sedang\": sedang, \"tinggi\": tinggi}\n"
   ]
  },
  {
   "cell_type": "markdown",
   "id": "8ea521dc",
   "metadata": {},
   "source": [
    "## Inference Rules (Mamdani & Sugeno)"
   ]
  },
  {
   "cell_type": "code",
   "execution_count": 24,
   "id": "8c9ea742",
   "metadata": {},
   "outputs": [],
   "source": [
    "def mamdani_inference(fz_alcohol, fz_va, fz_sulphates):\n",
    "    levels = [\"rendah\", \"sedang\", \"tinggi\"]\n",
    "    rules = []\n",
    "\n",
    "    for a in levels:\n",
    "        for va in levels:\n",
    "            for s in levels:\n",
    "                α = min(fz_alcohol[a], fz_va[va], fz_sulphates[s])\n",
    "\n",
    "                # Aturan fuzzy logika\n",
    "                if a == \"tinggi\" and va == \"rendah\":\n",
    "                    out = \"tinggi\"\n",
    "                elif a == \"tinggi\":\n",
    "                    out = \"sedang\"\n",
    "                elif a == \"sedang\" and va == \"rendah\":\n",
    "                    out = \"sedang\"\n",
    "                elif a == \"sedang\" and va == \"sedang\" and s == \"sedang\":\n",
    "                    out = \"sedang\"\n",
    "                elif a == \"sedang\":\n",
    "                    out = \"rendah\"\n",
    "                elif a == \"rendah\" and va == \"rendah\" and s == \"tinggi\":\n",
    "                    out = \"sedang\"\n",
    "                else:\n",
    "                    out = \"rendah\"\n",
    "\n",
    "                rules.append((out, α))\n",
    "\n",
    "    return {\n",
    "        \"rendah\": max([α for out, α in rules if out == \"rendah\"], default=0),\n",
    "        \"sedang\": max([α for out, α in rules if out == \"sedang\"], default=0),\n",
    "        \"tinggi\": max([α for out, α in rules if out == \"tinggi\"], default=0),\n",
    "    }\n",
    "\n",
    "def sugeno_infer(fz_alcohol, fz_va, fz_sulphates):\n",
    "    levels = [\"rendah\", \"sedang\", \"tinggi\"]\n",
    "    rules = []\n",
    "\n",
    "    def output_value(a, va, s):\n",
    "        if a == \"tinggi\" and va == \"rendah\":\n",
    "            return 90\n",
    "        elif a == \"tinggi\":\n",
    "            return 70\n",
    "        elif a == \"sedang\" and va == \"rendah\":\n",
    "            return 65\n",
    "        elif a == \"sedang\" and va == \"sedang\" and s == \"sedang\":\n",
    "            return 60\n",
    "        elif a == \"sedang\":\n",
    "            return 50\n",
    "        elif a == \"rendah\" and va == \"rendah\" and s == \"tinggi\":\n",
    "            return 55\n",
    "        else:\n",
    "            return 40\n",
    "\n",
    "    for a in levels:\n",
    "        for va in levels:\n",
    "            for s in levels:\n",
    "                α = min(fz_alcohol[a], fz_va[va], fz_sulphates[s])\n",
    "                z = output_value(a, va, s)\n",
    "                rules.append((α, z))\n",
    "\n",
    "    numerator = sum([w * z for w, z in rules])\n",
    "    denominator = sum([w for w, _ in rules])\n",
    "    return numerator / denominator if denominator != 0 else 0\n"
   ]
  },
  {
   "cell_type": "markdown",
   "id": "f1bba6ab",
   "metadata": {},
   "source": [
    "## Defuzzification\n"
   ]
  },
  {
   "cell_type": "code",
   "execution_count": 25,
   "id": "43fed1f0",
   "metadata": {},
   "outputs": [],
   "source": [
    "def output_membership(x, label):\n",
    "    if label == \"rendah\":\n",
    "        return 1 if x <= 30 else (1 - (x - 30) / 20 if x <= 50 else 0)\n",
    "    elif label == \"sedang\":\n",
    "        return (x - 40) / 10 if 40 <= x <= 50 else (60 - x) / 10 if 50 < x <= 60 else 0\n",
    "    elif label == \"tinggi\":\n",
    "        return 1 if x >= 70 else (0 if x <= 55 else (x - 55) / 15)\n",
    "    return 0\n",
    "\n",
    "def defuzzify_mamdani(result):\n",
    "    x_range = np.linspace(0, 100, 1000)\n",
    "    aggregated = []\n",
    "    numerator = 0\n",
    "    denominator = 0\n",
    "\n",
    "    for x in x_range:\n",
    "        μ_r = min(result[\"rendah\"], output_membership(x, \"rendah\"))\n",
    "        μ_s = min(result[\"sedang\"], output_membership(x, \"sedang\"))\n",
    "        μ_t = min(result[\"tinggi\"], output_membership(x, \"tinggi\"))\n",
    "        μ = max(μ_r, μ_s, μ_t)\n",
    "        aggregated.append(μ)\n",
    "        numerator += x * μ\n",
    "        denominator += μ\n",
    "\n",
    "    return numerator / denominator if denominator != 0 else 0\n",
    "\n",
    "def defuzzify_sugeno(sugeno_score):\n",
    "    return sugeno_score  # nilai output Sugeno sudah scalar langsung\n"
   ]
  },
  {
   "cell_type": "markdown",
   "id": "a80135ba",
   "metadata": {},
   "source": [
    "## Sample Prediction"
   ]
  },
  {
   "cell_type": "code",
   "execution_count": 26,
   "id": "e0e34c0e",
   "metadata": {},
   "outputs": [
    {
     "name": "stdout",
     "output_type": "stream",
     "text": [
      "Mamdani Score (COG): 31.79\n",
      "Sugeno Score: 52.63\n"
     ]
    }
   ],
   "source": [
    "sample = df_filtered.iloc[0]\n",
    "\n",
    "# Fuzzify input features\n",
    "fz_alc = fuzzify_alcohol(sample[\"alcohol\"])\n",
    "fz_va = fuzzify_volatile_acidity(sample[\"volatile acidity\"])\n",
    "fz_sul = fuzzify_sulphates(sample[\"sulphates\"])\n",
    "\n",
    "# Mamdani\n",
    "mamdani_result = mamdani_inference(fz_alc, fz_va, fz_sul)\n",
    "mamdani_score = defuzzify_mamdani(mamdani_result)\n",
    "print(f\"Mamdani Score (COG): {mamdani_score:.2f}\")\n",
    "\n",
    "# Sugeno\n",
    "sugeno_score = sugeno_infer(fz_alc, fz_va, fz_sul)\n",
    "final_sugeno = defuzzify_sugeno(sugeno_score)\n",
    "print(f\"Sugeno Score: {final_sugeno:.2f}\")\n"
   ]
  },
  {
   "cell_type": "markdown",
   "id": "39e12301",
   "metadata": {},
   "source": [
    "## Evaluation (Accuracy, F1, Confusion Matrix)"
   ]
  },
  {
   "cell_type": "markdown",
   "id": "e5825afe",
   "metadata": {},
   "source": [
    "## Analisis Data (10 Data Pertama)"
   ]
  },
  {
   "cell_type": "code",
   "execution_count": 28,
   "id": "7da86b2b",
   "metadata": {},
   "outputs": [
    {
     "name": "stdout",
     "output_type": "stream",
     "text": [
      "Mahasiswa ID 1\n",
      "  Alkohol: 9.40, Volatile Acidity: 0.70, Sulphates: 0.56\n",
      "  Mamdani Score: 31.79 → tidak lulus\n",
      "  Sugeno Score: 52.63 → lulus\n",
      "  Label Aktual: lulus\n",
      "--------------------------------------------------\n",
      "Mahasiswa ID 2\n",
      "  Alkohol: 9.80, Volatile Acidity: 0.88, Sulphates: 0.68\n",
      "  Mamdani Score: 21.23 → tidak lulus\n",
      "  Sugeno Score: 50.00 → lulus\n",
      "  Label Aktual: tidak lulus\n",
      "--------------------------------------------------\n",
      "Mahasiswa ID 3\n",
      "  Alkohol: 9.80, Volatile Acidity: 0.76, Sulphates: 0.65\n",
      "  Mamdani Score: 27.55 → tidak lulus\n",
      "  Sugeno Score: 54.00 → lulus\n",
      "  Label Aktual: tidak lulus\n",
      "--------------------------------------------------\n",
      "Mahasiswa ID 4\n",
      "  Alkohol: 9.80, Volatile Acidity: 0.28, Sulphates: 0.58\n",
      "  Mamdani Score: 50.00 → lulus\n",
      "  Sugeno Score: 65.00 → lulus\n",
      "  Label Aktual: lulus\n",
      "--------------------------------------------------\n",
      "Mahasiswa ID 5\n",
      "  Alkohol: 9.40, Volatile Acidity: 0.70, Sulphates: 0.56\n",
      "  Mamdani Score: 31.79 → tidak lulus\n",
      "  Sugeno Score: 52.63 → lulus\n",
      "  Label Aktual: lulus\n",
      "--------------------------------------------------\n",
      "Mahasiswa ID 6\n",
      "  Alkohol: 9.40, Volatile Acidity: 0.66, Sulphates: 0.56\n",
      "  Mamdani Score: 31.79 → tidak lulus\n",
      "  Sugeno Score: 52.63 → lulus\n",
      "  Label Aktual: lulus\n",
      "--------------------------------------------------\n",
      "Mahasiswa ID 7\n",
      "  Alkohol: 9.40, Volatile Acidity: 0.60, Sulphates: 0.46\n",
      "  Mamdani Score: 23.03 → tidak lulus\n",
      "  Sugeno Score: 48.57 → lulus\n",
      "  Label Aktual: lulus\n",
      "--------------------------------------------------\n",
      "Mahasiswa ID 8\n",
      "  Alkohol: 10.00, Volatile Acidity: 0.65, Sulphates: 0.47\n",
      "  Mamdani Score: 21.89 → tidak lulus\n",
      "  Sugeno Score: 50.00 → lulus\n",
      "  Label Aktual: lulus\n",
      "--------------------------------------------------\n",
      "Mahasiswa ID 9\n",
      "  Alkohol: 9.50, Volatile Acidity: 0.58, Sulphates: 0.57\n",
      "  Mamdani Score: 34.75 → tidak lulus\n",
      "  Sugeno Score: 57.00 → lulus\n",
      "  Label Aktual: lulus\n",
      "--------------------------------------------------\n",
      "Mahasiswa ID 10\n",
      "  Alkohol: 10.50, Volatile Acidity: 0.50, Sulphates: 0.80\n",
      "  Mamdani Score: 50.00 → lulus\n",
      "  Sugeno Score: 60.00 → lulus\n",
      "  Label Aktual: lulus\n",
      "--------------------------------------------------\n"
     ]
    }
   ],
   "source": [
    "# Ambil 10 data pertama\n",
    "sample_10 = df_filtered.head(10)\n",
    "\n",
    "for idx, row in sample_10.iterrows():\n",
    "    fz_alc = fuzzify_alcohol(row[\"alcohol\"])\n",
    "    fz_va = fuzzify_volatile_acidity(row[\"volatile acidity\"])\n",
    "    fz_sul = fuzzify_sulphates(row[\"sulphates\"])\n",
    "\n",
    "    mam_res = mamdani_inference(fz_alc, fz_va, fz_sul)\n",
    "    mam_score = defuzzify_mamdani(mam_res)\n",
    "    sug_score = sugeno_infer(fz_alc, fz_va, fz_sul)\n",
    "\n",
    "    mam_label = \"tidak lulus\" if mam_score <= 40 else \"lulus\" if mam_score <= 70 else \"lulus dengan pujian\"\n",
    "    sug_label = \"tidak lulus\" if sug_score <= 40 else \"lulus\" if sug_score <= 70 else \"lulus dengan pujian\"\n",
    "    true_label = row[\"true_label\"]\n",
    "    true_label_text = \"tidak lulus\" if true_label == \"rendah\" else \"lulus\" if true_label == \"sedang\" else \"lulus dengan pujian\"\n",
    "\n",
    "    print(f\"Mahasiswa ID {int(row['ID'])}\")\n",
    "    print(f\"  Alkohol: {row['alcohol']:.2f}, Volatile Acidity: {row['volatile acidity']:.2f}, Sulphates: {row['sulphates']:.2f}\")\n",
    "    print(f\"  Mamdani Score: {mam_score:.2f} → {mam_label}\")\n",
    "    print(f\"  Sugeno Score: {sug_score:.2f} → {sug_label}\")\n",
    "    print(f\"  Label Aktual: {true_label_text}\")\n",
    "    print(\"-\" * 50)\n"
   ]
  },
  {
   "cell_type": "markdown",
   "id": "fa569715",
   "metadata": {},
   "source": [
    "## Perbandingan Statistik Mamdani vs Sugeno"
   ]
  },
  {
   "cell_type": "code",
   "execution_count": 29,
   "id": "b023a3cd",
   "metadata": {},
   "outputs": [
    {
     "name": "stdout",
     "output_type": "stream",
     "text": [
      "           Mamdani       Sugeno\n",
      "count  1599.000000  1599.000000\n",
      "mean     46.322615    64.032842\n",
      "std      18.214618    13.386090\n",
      "min      21.014809    40.000000\n",
      "25%      29.354413    53.846154\n",
      "50%      50.000000    61.428571\n",
      "75%      50.000000    70.000000\n",
      "max      81.025333    90.000000\n"
     ]
    },
    {
     "data": {
      "image/png": "[encoded data removed]",
      "text/plain": [
       "<Figure size 1000x400 with 1 Axes>"
      ]
     },
     "metadata": {},
     "output_type": "display_data"
    },
    {
     "data": {
      "image/png": "[encoded data removed]",
      "text/plain": [
       "<Figure size 600x400 with 1 Axes>"
      ]
     },
     "metadata": {},
     "output_type": "display_data"
    }
   ],
   "source": [
    "mamdani_scores = []\n",
    "sugeno_scores = []\n",
    "\n",
    "for _, row in df_filtered.iterrows():\n",
    "    fz_alc = fuzzify_alcohol(row[\"alcohol\"])\n",
    "    fz_va = fuzzify_volatile_acidity(row[\"volatile acidity\"])\n",
    "    fz_sul = fuzzify_sulphates(row[\"sulphates\"])\n",
    "\n",
    "    mam_score = defuzzify_mamdani(mamdani_inference(fz_alc, fz_va, fz_sul))\n",
    "    sug_score = sugeno_infer(fz_alc, fz_va, fz_sul)\n",
    "\n",
    "    mamdani_scores.append(mam_score)\n",
    "    sugeno_scores.append(sug_score)\n",
    "\n",
    "# Gabungkan ke DataFrame\n",
    "score_df = pd.DataFrame({\n",
    "    \"Mamdani\": mamdani_scores,\n",
    "    \"Sugeno\": sugeno_scores\n",
    "})\n",
    "\n",
    "# Statistik deskriptif\n",
    "print(score_df.describe())\n",
    "\n",
    "# Histogram\n",
    "plt.figure(figsize=(10, 4))\n",
    "plt.hist(score_df[\"Mamdani\"], bins=20, alpha=0.6, label=\"Mamdani\", color=\"orange\")\n",
    "plt.hist(score_df[\"Sugeno\"], bins=20, alpha=0.6, label=\"Sugeno\", color=\"purple\")\n",
    "plt.title(\"Distribusi Skor Mamdani vs Sugeno\")\n",
    "plt.xlabel(\"Skor\")\n",
    "plt.ylabel(\"Frekuensi\")\n",
    "plt.legend()\n",
    "plt.grid(True)\n",
    "plt.show()\n",
    "\n",
    "# Boxplot\n",
    "plt.figure(figsize=(6, 4))\n",
    "sns.boxplot(data=score_df, palette=[\"orange\", \"purple\"])\n",
    "plt.title(\"Boxplot Skor Mamdani & Sugeno\")\n",
    "plt.ylabel(\"Skor\")\n",
    "plt.grid(True, axis=\"y\", linestyle=\"--\", alpha=0.5)\n",
    "plt.show()\n"
   ]
  }
 ],
 "metadata": {
  "kernelspec": {
   "display_name": "Python 3",
   "language": "python",
   "name": "python3"
  },
  "language_info": {
   "codemirror_mode": {
    "name": "ipython",
    "version": 3
   },
   "file_extension": ".py",
   "mimetype": "text/x-python",
   "name": "python",
   "nbconvert_exporter": "python",
   "pygments_lexer": "ipython3",
   "version": "3.10.6"
  }
 },
 "nbformat": 4,
 "nbformat_minor": 5
}
